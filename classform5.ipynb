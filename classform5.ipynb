{
  "nbformat": 4,
  "nbformat_minor": 0,
  "metadata": {
    "colab": {
      "provenance": []
    },
    "kernelspec": {
      "name": "python3",
      "display_name": "Python 3"
    },
    "language_info": {
      "name": "python"
    }
  },
  "cells": [
    {
      "cell_type": "code",
      "execution_count": null,
      "metadata": {
        "id": "yLPu-YAg0Gyw"
      },
      "outputs": [],
      "source": [
        "import pandas as pd\n",
        "import numpy as np\n",
        "from sklearn.model_selection import cross_val_score, cross_val_predict, GridSearchCV, train_test_split\n",
        "from sklearn.ensemble import RandomForestRegressor, RandomForestClassifier, VotingClassifier\n",
        "from sklearn.svm import SVC, SVR\n",
        "from sklearn.metrics import confusion_matrix, classification_report, f1_score, r2_score, mean_squared_error, explained_variance_score\n",
        "from sklearn.linear_model import LinearRegression, Lasso, Ridge, ElasticNet, RidgeClassifier\n",
        "from sklearn.neighbors import KNeighborsRegressor, KNeighborsClassifier\n",
        "from sklearn.kernel_ridge import KernelRidge\n",
        "from sklearn.ensemble import GradientBoostingRegressor, GradientBoostingClassifier\n",
        "\n",
        "df = pd.read_csv('C4T-cormmscaled.csv')\n",
        "df.iloc[:, 1:] = np.round(df.iloc[:, 1:], 2)\n",
        "\n",
        "df['Target'] = pd.cut(df['ThermalConductivity'], [0, 5, 5000], labels=[0, 1])\n",
        "\n",
        "df['Target'].value_counts()\n",
        "\n",
        "df.columns.values\n",
        "\n",
        "df = df.sample(frac=1)\n",
        "\n",
        "X = df.drop(columns=['Formula', 'ThermalConductivity', 'composition', 'Target'])\n",
        "y = df['Target']\n",
        "\n",
        "random_forest = RandomForestClassifier(n_estimators=100, criterion='gini', max_depth=15, min_samples_split=12,\n",
        "                                       min_samples_leaf=5, max_features='log2', max_samples=0.8, class_weight='balanced', ccp_alpha=0.0015)\n",
        "\n",
        "y_pred_rf = cross_val_predict(random_forest, X, y, cv=6)\n",
        "pd.DataFrame(classification_report(y, y_pred_rf, output_dict=True))\n",
        "\n",
        "pd.DataFrame(confusion_matrix(y, y_pred_rf), index=['Actual low', 'Actual high'], columns=['Predicted low', 'Predicted high'])\n",
        "\n",
        "svc = SVC(kernel='sigmoid', C=100, gamma=0.1, coef0=2, class_weight={0: 2, 1: 1})\n",
        "\n",
        "y_pred_svc = cross_val_predict(svc, X, y, cv=5)\n",
        "pd.DataFrame(classification_report(y, y_pred_svc, output_dict=True))\n",
        "\n",
        "pd.DataFrame(confusion_matrix(y, y_pred_svc), index=['Actual low', 'Actual high'], columns=['Predicted low', 'Predicted high'])\n",
        "\n",
        "knn = KNeighborsClassifier(n_neighbors=4, weights='distance', p=1)\n",
        "\n",
        "y_pred_knn = cross_val_predict(knn, X, y, cv=8)\n",
        "pd.DataFrame(classification_report(y, y_pred_knn, output_dict=True))\n",
        "\n",
        "pd.DataFrame(confusion_matrix(y, y_pred_knn), index=['Actual low', 'Actual high'], columns=['Predicted low', 'Predicted high'])\n",
        "\n",
        "gradient_boosting = GradientBoostingClassifier(learning_rate=0.1, n_estimators=100, subsample=0.9, min_samples_split=10,\n",
        "                                              min_samples_leaf=5, max_depth=8, max_features='sqrt', ccp_alpha=0.001)\n",
        "\n",
        "y_pred_gb = cross_val_predict(gradient_boosting, X, y, cv=8)\n",
        "pd.DataFrame(classification_report(y, y_pred_gb, output_dict=True))\n",
        "\n",
        "pd.DataFrame(confusion_matrix(y, y_pred_gb), index=['Actual low', 'Actual high'], columns=['Predicted low', 'Predicted high'])\n",
        "\n",
        "estimators = []\n",
        "estimators.append(('RF', random_forest))\n",
        "# estimators.append(('SVC', svc))\n",
        "estimators.append(('KNN', knn))\n",
        "estimators.append(('GB', gradient_boosting))\n",
        "\n",
        "voting_classifier = VotingClassifier(estimators=estimators, weights=[55, 15, 30])\n",
        "\n",
        "y_pred_voting = cross_val_predict(voting_classifier, X, y, cv=8)\n",
        "pd.DataFrame(classification_report(y, y_pred_voting, output_dict=True))\n",
        "\n",
        "pd.DataFrame(confusion_matrix(y, y_pred_voting), index=['Actual low', 'Actual high'], columns=['Predicted low', 'Predicted high'])\n",
        "\n",
        "df['Predicted_Target'] = y_pred_voting\n"
      ]
    }
  ]
}