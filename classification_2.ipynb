{
 "cells": [
  {
   "cell_type": "code",
   "execution_count": 1,
   "id": "b8e5b403-83e0-46c6-9fc4-4cf112c965d4",
   "metadata": {},
   "outputs": [],
   "source": [
    "import pandas as pd\n",
    "import numpy as np\n",
    "from sklearn.model_selection import cross_val_predict\n",
    "from sklearn.ensemble import RandomForestClassifier, GradientBoostingClassifier\n",
    "from sklearn.svm import SVC\n",
    "from sklearn.metrics import classification_report, confusion_matrix\n",
    "from sklearn.ensemble import VotingClassifier\n",
    "\n",
    "# Read and preprocess the data\n",
    "df = pd.read_csv('C4T-cormmscaled.csv')\n",
    "df.iloc[:, 1:] = np.round(df.iloc[:, 1:], 2)\n",
    "df['Class'] = pd.cut(df['ThermalConductivity'], [0, 2, 5000], labels=[0, 1])\n",
    "df = df.sample(frac=1) \n",
    "\n",
    "# Define features and target\n",
    "X = df.drop(columns=['Formula', 'ThermalConductivity', 'composition', 'Class'])\n",
    "y = df['Class']\n",
    "\n",
    "# Random Forest Classifier\n",
    "rf = RandomForestClassifier(n_estimators=100, criterion='gini', max_depth=15, min_samples_split=12, min_samples_leaf=5, max_features='log2', max_samples=0.8, class_weight='balanced', ccp_alpha=0.0015)\n",
    "y_pred1 = cross_val_predict(rf, X, y, cv=6)\n",
    "\n",
    "# Support Vector Classifier (SVC)\n",
    "svc = SVC(kernel='sigmoid', C=100, gamma=0.1, coef0=2, class_weight={0: 2, 1: 1})\n",
    "y_pred2 = cross_val_predict(svc, X, y, cv=5)\n",
    "\n",
    "# Gradient Boosting Classifier\n",
    "gb = GradientBoostingClassifier(learning_rate=0.1, n_estimators=100, subsample=0.9, min_samples_split=10, min_samples_leaf=5, max_depth=8, max_features='sqrt', ccp_alpha=0.001)\n",
    "y_pred3 = cross_val_predict(gb, X, y, cv=8)\n",
    "\n",
    "# Ensemble Model - Voting Classifier\n",
    "estimators = [('RF', rf), ('GB', gb)]\n",
    "vote = VotingClassifier(estimators=estimators, weights=[60, 40])\n",
    "y_pred = cross_val_predict(vote, X, y, cv=8)\n",
    "\n",
    "# Add Predictions to the DataFrame\n",
    "df['pred2'] = y_pred\n"
   ]
  },
  {
   "cell_type": "code",
   "execution_count": null,
   "id": "8c9d570a-9865-4d7a-b700-bb5592604385",
   "metadata": {},
   "outputs": [],
   "source": []
  }
 ],
 "metadata": {
  "kernelspec": {
   "display_name": "Python 3 (ipykernel)",
   "language": "python",
   "name": "python3"
  },
  "language_info": {
   "codemirror_mode": {
    "name": "ipython",
    "version": 3
   },
   "file_extension": ".py",
   "mimetype": "text/x-python",
   "name": "python",
   "nbconvert_exporter": "python",
   "pygments_lexer": "ipython3",
   "version": "3.11.4"
  }
 },
 "nbformat": 4,
 "nbformat_minor": 5
}
